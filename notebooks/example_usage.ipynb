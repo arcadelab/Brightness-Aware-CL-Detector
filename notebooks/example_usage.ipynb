{
 "cells": [
  {
   "cell_type": "code",
   "execution_count": null,
   "metadata": {
    "collapsed": true
   },
   "outputs": [],
   "source": [
    "import os\n",
    "import argparse\n",
    "from src.models.BACLD import process_arguments, main\n",
    "from src.models import estimate_parameters\n",
    "\n",
    "# check if working directory is project root\n",
    "# Get the current working directory\n",
    "current_directory = os.getcwd()\n",
    "\n",
    "# Define the project root directory\n",
    "project_root = '/Pupillometry'\n",
    "# Change the current working directory to the project root\n",
    "os.chdir(project_root)"
   ]
  },
  {
   "cell_type": "markdown",
   "source": [
    "# Define Pupil Light Response Model Parameters for each user"
   ],
   "metadata": {
    "collapsed": false
   }
  },
  {
   "cell_type": "markdown",
   "source": [
    "First the parameters for the Pupil Light Response Model is are estimated for each user. These parameters are estimated from separate trials (e.g. Brightness Calibration and Gaze Calibration with different colors). Also the Mean Squared error between one step of the calibration and the estimation of the model is estimated. The model can be trained via a console input and argument given over the console\n",
    "\n",
    "```python3 -m src.models.estimate_parameters --folder_path <path_to_data> --trial <path_to_file_which_steps_to_use>```\n",
    "\n",
    "The script takes the following inputs:\n",
    "```\n",
    "  --folder_path FOLDER_PATH\n",
    "                        Path to the data folder containing the processed data\n",
    "  --prediction_error_step PREDICTION_ERROR_STEP\n",
    "                        The step for which the prediction error should be calculated\n",
    "  --eye {right,left}    The eye to be used\n",
    "  --trial TRIAL         The usable trials can be loaded from a file, if a valid path to a txt file is given or the default from the new_data and phantom data can be used. The txt file should be in the format user:experiment_step in each line\n",
    "  --save_path SAVE_PATH\n",
    "                        Path to save the results and figures\n",
    "```\n"
   ],
   "metadata": {
    "collapsed": false
   }
  },
  {
   "cell_type": "code",
   "execution_count": null,
   "outputs": [],
   "source": [
    "args = argparse.Namespace()\n",
    "\n",
    "# estimate Parameters for Pupil Light Response Model\n",
    "args.eye = \"right\"\n",
    "args.folder_path = 'data/processed/ipcai_2024/protocol_1'\n",
    "args.prediction_error_step = 'step-8-pupil-calibration-4'\n",
    "args.trial = 'data/processed/ipcai_2024/train_steps_protocol_1.txt'\n",
    "\n",
    "estimate_parameters.main(args)"
   ],
   "metadata": {
    "collapsed": false
   }
  },
  {
   "cell_type": "markdown",
   "source": [
    "# Train and estimate model"
   ],
   "metadata": {
    "collapsed": false
   }
  },
  {
   "cell_type": "markdown",
   "source": [
    "Next the BACLD model is trained as described in the paper and predicts whether CL is detected. The script is executed the same way, as the estimate parameters model. Is has the following arguments:\n",
    "\n",
    "```\n",
    "  --train_data_path TRAIN_DATA_PATH\n",
    "                        Path to the folder with the processed data for the users.\n",
    "  --test_data_path TEST_DATA_PATH\n",
    "                        Path to the folder with the processed data for the users to test.\n",
    "  --folder_path_raw FOLDER_PATH_RAW\n",
    "                        Path to the folder containing the raw data\n",
    "  --model_save_path MODEL_SAVE_PATH\n",
    "                        Path to save the model\n",
    "  --figure_save_path FIGURE_SAVE_PATH\n",
    "                        Path to save the figures\n",
    "  --train_trial TRAIN_TRIAL\n",
    "                        The usable trials for the training can be loaded from a file. The txt file should contain the user in each line and the steps to be used for training in each line.\n",
    "  --trial TRIAL         The usable trials for the prediction can be loaded from a file. The txt file should contain the user in each line and the steps to be used for training in each line.\n",
    "  --trial_save_name TRIAL_SAVE_NAME\n",
    "                        Name of the trial to save the results under the correct name.\n",
    "  --hyperparameter_tuning, --no-hyperparameter_tuning\n",
    "                        If True, hyperparameter tuning is performed, otherwise the best model is loaded (default: False)\n",
    "  --train, --no-train   If True, training is performed, otherwise only prediction (default: False)\n",
    "  --train_cross_fold, --no-train_cross_fold\n",
    "                        If True, training is performed with a leave one user out cross fold validation, otherwise only training on the data is performed (default: False)\n",
    "  --individual_steps, --no-individual_steps\n",
    "  --seconds_entropy SECONDS_ENTROPY\n",
    "  --eye EYE\n",
    "  --grid_size GRID_SIZE\n",
    "```"
   ],
   "metadata": {
    "collapsed": false
   }
  },
  {
   "cell_type": "code",
   "execution_count": null,
   "outputs": [],
   "source": [
    "args = argparse.Namespace()\n",
    "\n",
    "# define correct paths\n",
    "args.folder_path_raw = 'data/raw/ipcai_2024/pupilcapture/protocol_1'\n",
    "args.model_save_path = 'models'\n",
    "\n",
    "# training data\n",
    "args.train_data_path = 'data/processed/ipcai_2024/protocol_1'\n",
    "args.train_trial = 'data/processed/ipcai_2024/interpretable_train_steps.txt'\n",
    "\n",
    "# test data\n",
    "args.test_data_path = 'data/processed/ipcai_2024/protocol_1'\n",
    "args.trial = 'data/processed/ipcai_2024/interpretable_test_steps_p1_PT.txt'\n",
    "args.trial_save_name = 'p1_PT'\n",
    "\n",
    "# hyper parameter tuning and training are set false\n",
    "args.hyperparameter_tuning = True\n",
    "args.train_cross_fold = True\n",
    "args.train = True\n",
    "args.individual_steps = False\n",
    "\n",
    "args.eye = 'right'\n",
    "args.seconds_entropy = 10\n",
    "args.grid_size = 15\n",
    "\n",
    "\n",
    "args = process_arguments(args)\n",
    "main(args)"
   ],
   "metadata": {
    "collapsed": false
   }
  }
 ],
 "metadata": {
  "kernelspec": {
   "display_name": "Python 3",
   "language": "python",
   "name": "python3"
  },
  "language_info": {
   "codemirror_mode": {
    "name": "ipython",
    "version": 2
   },
   "file_extension": ".py",
   "mimetype": "text/x-python",
   "name": "python",
   "nbconvert_exporter": "python",
   "pygments_lexer": "ipython2",
   "version": "2.7.6"
  }
 },
 "nbformat": 4,
 "nbformat_minor": 0
}
